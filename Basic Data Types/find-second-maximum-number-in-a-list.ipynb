{
 "cells": [
  {
   "cell_type": "markdown",
   "metadata": {},
   "source": [
    "# Find the Runner-Up Score!\n",
    "\n",
    "Given the participants' score sheet for your University Sports Day, you are required to find the runner-up score. You are given n scores. Store them in a list and find the score of the runner-up.\n",
    "\n",
    "**Input Format**\n",
    "\n",
    "The first line contains n. The second line contains an array A[] of n integers each separated by a space.\n",
    "\n",
    "**Constraints**\n",
    "\n",
    "• 2 <= n <= 10\n",
    "\n",
    "• -100 <= A[i] <= 100\n",
    "\n",
    "**Output Format**\n",
    "\n",
    "Print the runner-up score.\n",
    "\n",
    "**Sample Input O**\n",
    "```\n",
    "5\n",
    "23665\n",
    "```\n",
    "**Sample Output O**\n",
    "\n",
    "`5`\n",
    "\n",
    "**Explanation 0**\n",
    "\n",
    "Given list is [2,3,6,6,5]. The maximum score is 6, second maximum is 5. Hence, we print 5 as the runner-up score.\n",
    "\n",
    "## Solution:"
   ]
  },
  {
   "cell_type": "code",
   "execution_count": null,
   "metadata": {},
   "outputs": [],
   "source": [
    "if __name__ == '__main__':\n",
    "    n = int(input())\n",
    "    arr = map(int, input().split())\n",
    "    \n",
    "    print(sorted(set(arr))[-2])"
   ]
  }
 ],
 "metadata": {
  "language_info": {
   "name": "python"
  }
 },
 "nbformat": 4,
 "nbformat_minor": 2
}

{
 "cells": [
  {
   "cell_type": "markdown",
   "metadata": {},
   "source": [
    "# Print Function\n",
    "\n",
    "**Task**\n",
    "\n",
    "The included code stub will read an integer, n, from STDIN.\n",
    "\n",
    "Without using any string methods, try to print the following:\n",
    "\n",
    "123...n\n",
    "\n",
    "Note that \"...\" represents the consecutive values in between.\n",
    "\n",
    "**Example**\n",
    "\n",
    "n = 5\n",
    "\n",
    "Print the string `12345`.\n",
    "\n",
    "**Input Format**\n",
    "\n",
    "The first line contains an integer n.\n",
    "\n",
    "**Constraints**\n",
    "\n",
    "1 <= n <= 150\n",
    "\n",
    "**Output Format**\n",
    "\n",
    "Print the list of integers from 1 through n as a string, without spaces.\n",
    "\n",
    "**Sample Input 0**\n",
    "\n",
    "`3`\n",
    "\n",
    "**Sample Output 0**\n",
    "\n",
    "`123`\n",
    "\n",
    "## Solution:"
   ]
  },
  {
   "cell_type": "code",
   "execution_count": null,
   "metadata": {},
   "outputs": [],
   "source": [
    "if __name__ == '__main__':\n",
    "    n = int(input())\n",
    "    for i in range(1, n+1):\n",
    "        print(i, end='')"
   ]
  }
 ],
 "metadata": {
  "language_info": {
   "name": "python"
  }
 },
 "nbformat": 4,
 "nbformat_minor": 2
}

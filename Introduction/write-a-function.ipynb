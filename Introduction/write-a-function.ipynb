{
 "cells": [
  {
   "cell_type": "markdown",
   "metadata": {},
   "source": [
    "# Write a function\n",
    "An extra day is added to the calendar almost every four years as February 29, and the day is called a leap day. It corrects the calendar for the fact that our planet takes approximately 365.25 days to orbit the sun. A leap year contains a leap day.\n",
    "\n",
    "In the Gregorian calendar, three conditions are used to identify leap years:\n",
    "\n",
    "The year can be evenly divided by 4, is a leap year, unless:\n",
    "The year can be evenly divided by 100, it is NOT a leap year, unless:\n",
    "The year is also evenly divisible by 400. Then it is a leap year.\n",
    "This means that in the Gregorian calendar, the years 2000 and 2400 are leap years, while 1800, 1900, 2100, 2200, 2300 and 2500 are NOT leap years. [Source](https://www.timeanddate.com/date/leapyear.html)\n",
    "\n",
    "**Task**\n",
    "\n",
    "Given a year, determine whether it is a leap year. If it is a leap year, return the Boolean True, otherwise return False.\n",
    "\n",
    "Note that the code stub provided reads from STDIN and passes arguments to the is_leap function. It is only necessary to complete the is_leap function.\n",
    "\n",
    "**Input Format**\n",
    "\n",
    "Read year, the year to test.\n",
    "\n",
    "**Constraints**\n",
    "\n",
    "1900 <= n <= 10ˆ5\n",
    "\n",
    "**Output Format**\n",
    "\n",
    "The function must return a Boolean value (True/False). Output is handled by the provided code stub.\n",
    "\n",
    "**Sample Input 0**\n",
    "\n",
    "`1990`\n",
    "\n",
    "**Sample Output 0**\n",
    "\n",
    "`False`\n",
    "\n",
    "**Explanation 0**\n",
    "\n",
    "1990 is not a multiple of 4 hence it's not a leap year.\n",
    "\n",
    "## Solution:"
   ]
  },
  {
   "cell_type": "code",
   "execution_count": null,
   "metadata": {},
   "outputs": [],
   "source": [
    "def is_leap(year):\n",
    "    leap = False\n",
    "    \n",
    "    # Write your logic here\n",
    "    if year % 4 == 0 and year % 100 != 0:\n",
    "        leap = True\n",
    "    elif year % 400 == 0:\n",
    "        leap = True\n",
    "    \n",
    "    return leap\n",
    "\n",
    "year = int(input())\n",
    "print(is_leap(year))"
   ]
  }
 ],
 "metadata": {
  "language_info": {
   "name": "python"
  }
 },
 "nbformat": 4,
 "nbformat_minor": 2
}

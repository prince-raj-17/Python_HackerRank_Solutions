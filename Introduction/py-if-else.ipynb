{
 "cells": [
  {
   "cell_type": "markdown",
   "metadata": {},
   "source": [
    "# Python If-Else\n",
    "**Task**\n",
    "\n",
    "Given an integer, n, perform the following conditional actions:\n",
    "\n",
    "* If n is odd, print Weird\n",
    "* If n is even and in the inclusive range of 2 to 5, print Not Weird\n",
    "* If n is even and in the inclusive range of 6 to 20, print Weird\n",
    "* If n is even and greater than 20, print Not Weird\n",
    " \n",
    "**Input Format**\n",
    "\n",
    "A single line containing a positive integer, n.\n",
    "\n",
    "**Constraints**\n",
    "\n",
    "`1 ≤ n ≤ 100`\n",
    "\n",
    "**Output Format**\n",
    "\n",
    "Print Weird if the number is weird. Otherwise, print Not Weird\n",
    "\n",
    "**Sample Input 0**\n",
    "\n",
    "`3`\n",
    "\n",
    "**Sample Output 0**\n",
    "\n",
    "`Weird`\n",
    "\n",
    "**Explanation 0**\n",
    "\n",
    "n = 3\n",
    "\n",
    "n is odd and odd numbers are weird, so print Weird.\n",
    "\n",
    "**Sample Input 1**\n",
    "\n",
    "`24`\n",
    "\n",
    "**Sample Output 1**\n",
    "\n",
    "`Not Weird`\n",
    "\n",
    "**Explanation 1**\n",
    "\n",
    "n = 24\n",
    "\n",
    "n > 20 and n is even, so it is not weird. \n",
    "\n",
    "## Solution:\n"
   ]
  },
  {
   "cell_type": "code",
   "execution_count": null,
   "metadata": {},
   "outputs": [],
   "source": [
    "if __name__ == '__main__':\n",
    "    n = int(input().strip())\n",
    "\n",
    "if n % 2 != 0:\n",
    "    print(\"Weird\")\n",
    "elif n % 2 == 0 and 2 <= n <= 5:\n",
    "    print(\"Not Weird\")\n",
    "elif n % 2 == 0 and 6 <= n <= 20:\n",
    "    print(\"Weird\")\n",
    "elif n % 2 == 0 and n > 20:\n",
    "    print(\"Not Weird\")"
   ]
  }
 ],
 "metadata": {
  "language_info": {
   "name": "python"
  }
 },
 "nbformat": 4,
 "nbformat_minor": 2
}

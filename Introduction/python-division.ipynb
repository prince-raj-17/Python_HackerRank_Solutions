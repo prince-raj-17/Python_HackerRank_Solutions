{
 "cells": [
  {
   "cell_type": "markdown",
   "metadata": {},
   "source": [
    "# Python: Division\n",
    "**Task**\n",
    "\n",
    "The provided code stub reads two integers, a and b, from STDIN.\n",
    "\n",
    "Add logic to print two lines. The first line should contain the result of integer division,  a//b . The second line should contain the result of float division,  a/b .\n",
    "\n",
    "No rounding or formatting is necessary.\n",
    "\n",
    "**Example**\n",
    "\n",
    "a = 3\n",
    "\n",
    "b = 5\n",
    "\n",
    "* The result of the integer division 3//5 = 0.\n",
    "* The result of the float division is 3/5 = 0.6.\n",
    "\n",
    "Print:\n",
    "```\n",
    "0\n",
    "0.6\n",
    "```\n",
    "**Input Format**\n",
    "\n",
    "The first line contains the first integer, a.\n",
    "\n",
    "The second line contains the second integer, b.\n",
    "\n",
    "**Output Format**\n",
    "\n",
    "Print the two lines as described above.\n",
    "\n",
    "**Sample Input 0**\n",
    "```\n",
    "4\n",
    "3\n",
    "```\n",
    "**Sample Output 0**\n",
    "```\n",
    "1\n",
    "1.33333333333\n",
    "```\n",
    "## Solution:"
   ]
  },
  {
   "cell_type": "code",
   "execution_count": null,
   "metadata": {},
   "outputs": [],
   "source": [
    "if __name__ == '__main__':\n",
    "    a = int(input())\n",
    "    b = int(input())\n",
    "    \n",
    "    print(f\"{a//b}\\n{a/b}\")"
   ]
  }
 ],
 "metadata": {
  "language_info": {
   "name": "python"
  }
 },
 "nbformat": 4,
 "nbformat_minor": 2
}

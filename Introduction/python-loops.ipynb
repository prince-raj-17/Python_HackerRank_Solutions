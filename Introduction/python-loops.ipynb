{
 "cells": [
  {
   "cell_type": "markdown",
   "metadata": {},
   "source": [
    "# Loops\n",
    "**Task**\n",
    "\n",
    "The provided code stub reads and integer, n, from STDIN. For all non-negative integers i < n, print iˆ2.\n",
    "\n",
    "**Example**\n",
    "\n",
    "n = 3\n",
    "\n",
    "The list of non-negative integers that are less than n = 3 is [0,1,2]. Print the square of each number on a separate line.\n",
    "```\n",
    "0\n",
    "1\n",
    "4\n",
    "```\n",
    "**Input Format**\n",
    "\n",
    "The first and only line contains the integer, n.\n",
    "\n",
    "**Constraints**\n",
    "\n",
    "1<= n <= 20\n",
    "\n",
    "**Output Format**\n",
    "\n",
    "Print n lines, one corresponding to each i.\n",
    "\n",
    "**Sample Input 0**\n",
    "```\n",
    "5\n",
    "```\n",
    "**Sample Output 0**\n",
    "```\n",
    "0\n",
    "1\n",
    "4\n",
    "9\n",
    "16\n",
    "```\n",
    "## Solution:"
   ]
  },
  {
   "cell_type": "code",
   "execution_count": null,
   "metadata": {},
   "outputs": [],
   "source": [
    "if __name__ == '__main__':\n",
    "    n = int(input())\n",
    "    for i in range(n):\n",
    "        print(i**2)"
   ]
  }
 ],
 "metadata": {
  "language_info": {
   "name": "python"
  }
 },
 "nbformat": 4,
 "nbformat_minor": 2
}

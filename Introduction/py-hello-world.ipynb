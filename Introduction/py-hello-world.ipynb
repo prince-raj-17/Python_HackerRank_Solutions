{
  "cells": [
    {
      "cell_type": "markdown",
      "metadata": {
        "id": "Aru9UXcUSQJs"
      },
      "source": [
        "# Say \"Hello, World!\" With Python\n",
        "**Task**\n",
        "\n",
        "Here is a sample line of code that can be executed in Python:\n",
        "\n",
        "`print(\"Hello, World!\")`\n",
        "\n",
        "You can just as easily store a string as a variable and then print it to stdout:\n",
        "\n",
        "`my_string = \"Hello, World!\"`\n",
        "\n",
        "`print(my_string)`\n",
        "\n",
        "The above code will print Hello, World! on your screen. Try it yourself in the editor below!\n",
        "\n",
        "**Input Format**\n",
        "\n",
        "You do not need to read any input in this challenge.\n",
        "\n",
        "**Output Format**\n",
        "\n",
        "Print Hello, World! to stdout.\n",
        "\n",
        "**Sample Output 0**\n",
        "\n",
        "`Hello, World!`\n",
        "\n",
        "## Solution:"
      ]
    },
    {
      "cell_type": "code",
      "execution_count": null,
      "metadata": {
        "id": "HPadqHt2SFA_"
      },
      "outputs": [],
      "source": [
        "print(\"Hello, World!\")"
      ]
    }
  ],
  "metadata": {
    "colab": {
      "provenance": []
    },
    "kernelspec": {
      "display_name": "Python 3",
      "name": "python3"
    },
    "language_info": {
      "codemirror_mode": {
        "name": "ipython",
        "version": 3
      },
      "file_extension": ".py",
      "mimetype": "text/x-python",
      "name": "python",
      "nbconvert_exporter": "python",
      "pygments_lexer": "ipython3",
      "version": "3.11.7"
    }
  },
  "nbformat": 4,
  "nbformat_minor": 0
}
